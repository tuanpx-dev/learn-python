{
 "cells": [
  {
   "cell_type": "code",
   "execution_count": 1,
   "metadata": {},
   "outputs": [],
   "source": [
    "data = {\n",
    "        'targetID': 1,\n",
    "        'title': 2,\n",
    "        'body': 3,\n",
    "        'type': 4,\n",
    "        'text': 5,\n",
    "        'file': 6,\n",
    "        'image': 7\n",
    "    }"
   ]
  },
  {
   "cell_type": "code",
   "execution_count": 3,
   "metadata": {},
   "outputs": [],
   "source": [
    " data.update({'created_at':9, 'created_by':10})"
   ]
  },
  {
   "cell_type": "code",
   "execution_count": 4,
   "metadata": {},
   "outputs": [
    {
     "data": {
      "text/plain": [
       "{'targetID': 1,\n",
       " 'title': 2,\n",
       " 'body': 3,\n",
       " 'type': 4,\n",
       " 'text': 5,\n",
       " 'file': 6,\n",
       " 'image': 7,\n",
       " 'created_at': 9,\n",
       " 'created_by': 10}"
      ]
     },
     "execution_count": 4,
     "metadata": {},
     "output_type": "execute_result"
    }
   ],
   "source": [
    "data"
   ]
  },
  {
   "cell_type": "code",
   "execution_count": 6,
   "metadata": {},
   "outputs": [
    {
     "name": "stdout",
     "output_type": "stream",
     "text": [
      "Collecting firebase_admin\n",
      "\u001b[?25l  Downloading https://files.pythonhosted.org/packages/cf/46/0a485c006deecc0f4413f0869835c74d9e668b4042e782aaf203738524cc/firebase_admin-3.0.0-py2.py3-none-any.whl (75kB)\n",
      "\u001b[K     |████████████████████████████████| 81kB 668kB/s eta 0:00:011\n",
      "\u001b[?25hCollecting google-cloud-firestore>=1.4.0; platform_python_implementation != \"PyPy\" (from firebase_admin)\n",
      "\u001b[?25l  Downloading https://files.pythonhosted.org/packages/18/1d/e3075b80bba4944d07c09e16a420b4affd1bfae877c6cb524dd4a5e92676/google_cloud_firestore-1.4.0-py2.py3-none-any.whl (329kB)\n",
      "\u001b[K     |████████████████████████████████| 337kB 743kB/s eta 0:00:01\n",
      "\u001b[?25hCollecting google-cloud-storage>=1.18.0 (from firebase_admin)\n",
      "\u001b[?25l  Downloading https://files.pythonhosted.org/packages/38/83/40049ccfb9e4504edf4988117a8b4652111708b150028dd663acfa061300/google_cloud_storage-1.20.0-py2.py3-none-any.whl (70kB)\n",
      "\u001b[K     |████████████████████████████████| 71kB 945kB/s eta 0:00:011\n",
      "\u001b[?25hCollecting cachecontrol>=0.12.4 (from firebase_admin)\n",
      "  Using cached https://files.pythonhosted.org/packages/5e/f0/2c193ed1f17c97ae539da7e1c2d48b80d8cccb1917163b26a91ca4355aa6/CacheControl-0.12.5.tar.gz\n",
      "Requirement already satisfied: six>=1.6.1 in /Users/macosx/.pyenv/versions/3.7.3/envs/learn-python-env/lib/python3.7/site-packages (from firebase_admin) (1.12.0)\n",
      "Collecting google-api-python-client>=1.7.8 (from firebase_admin)\n",
      "\u001b[?25l  Downloading https://files.pythonhosted.org/packages/5e/19/9fd511734c0dee8fa3d49f4109c75e7f95d3c31ed76c0e4a93fbba147807/google-api-python-client-1.7.11.tar.gz (142kB)\n",
      "\u001b[K     |████████████████████████████████| 143kB 1.0MB/s eta 0:00:01\n",
      "\u001b[?25hCollecting google-api-core[grpc]<2.0.0dev,>=1.14.0; platform_python_implementation != \"PyPy\" (from firebase_admin)\n",
      "  Using cached https://files.pythonhosted.org/packages/71/e5/7059475b3013a3c75abe35015c5761735ab224eb1b129fee7c8e376e7805/google_api_core-1.14.2-py2.py3-none-any.whl\n",
      "Collecting google-cloud-core<2.0dev,>=1.0.0 (from google-cloud-firestore>=1.4.0; platform_python_implementation != \"PyPy\"->firebase_admin)\n",
      "  Using cached https://files.pythonhosted.org/packages/ee/f0/084f598629db8e6ec3627688723875cdb03637acb6d86999bb105a71df64/google_cloud_core-1.0.3-py2.py3-none-any.whl\n",
      "Requirement already satisfied: pytz in /Users/macosx/.pyenv/versions/3.7.3/envs/learn-python-env/lib/python3.7/site-packages (from google-cloud-firestore>=1.4.0; platform_python_implementation != \"PyPy\"->firebase_admin) (2019.2)\n",
      "Collecting google-auth>=1.2.0 (from google-cloud-storage>=1.18.0->firebase_admin)\n",
      "  Using cached https://files.pythonhosted.org/packages/c5/9b/ed0516cc1f7609fb0217e3057ff4f0f9f3e3ce79a369c6af4a6c5ca25664/google_auth-1.6.3-py2.py3-none-any.whl\n",
      "Collecting google-resumable-media!=0.4.0,<0.5dev,>=0.3.1 (from google-cloud-storage>=1.18.0->firebase_admin)\n",
      "  Downloading https://files.pythonhosted.org/packages/96/d7/b29a41b01b854480891dfc408211ffb0cc7a2a3d5f15a3b6740ec18c845b/google_resumable_media-0.4.1-py2.py3-none-any.whl\n",
      "Requirement already satisfied: requests in /Users/macosx/.pyenv/versions/3.7.3/envs/learn-python-env/lib/python3.7/site-packages (from cachecontrol>=0.12.4->firebase_admin) (2.22.0)\n",
      "Collecting msgpack (from cachecontrol>=0.12.4->firebase_admin)\n",
      "\u001b[?25l  Downloading https://files.pythonhosted.org/packages/5f/e4/39d3b3610daa036a3054448680561016c159a2987050910660d6fcaa1fdc/msgpack-0.6.2-cp37-cp37m-macosx_10_9_x86_64.whl (77kB)\n",
      "\u001b[K     |████████████████████████████████| 81kB 1.2MB/s eta 0:00:011\n",
      "\u001b[?25hCollecting httplib2<1dev,>=0.9.2 (from google-api-python-client>=1.7.8->firebase_admin)\n",
      "\u001b[?25l  Downloading https://files.pythonhosted.org/packages/d2/84/f97b9efdb17c9b73e133bdbf2b4bfd09cd0be655e36e3ee3c4bec9095048/httplib2-0.14.0-py3-none-any.whl (94kB)\n",
      "\u001b[K     |████████████████████████████████| 102kB 1.6MB/s ta 0:00:011\n",
      "\u001b[?25hCollecting google-auth-httplib2>=0.0.3 (from google-api-python-client>=1.7.8->firebase_admin)\n",
      "  Using cached https://files.pythonhosted.org/packages/33/49/c814d6d438b823441552198f096fcd0377fd6c88714dbed34f1d3c8c4389/google_auth_httplib2-0.0.3-py2.py3-none-any.whl\n",
      "Collecting uritemplate<4dev,>=3.0.0 (from google-api-python-client>=1.7.8->firebase_admin)\n",
      "  Using cached https://files.pythonhosted.org/packages/e5/7d/9d5a640c4f8bf2c8b1afc015e9a9d8de32e13c9016dcc4b0ec03481fb396/uritemplate-3.0.0-py2.py3-none-any.whl\n",
      "Requirement already satisfied: setuptools>=34.0.0 in /Users/macosx/.pyenv/versions/3.7.3/envs/learn-python-env/lib/python3.7/site-packages (from google-api-core[grpc]<2.0.0dev,>=1.14.0; platform_python_implementation != \"PyPy\"->firebase_admin) (40.8.0)\n",
      "Collecting protobuf>=3.4.0 (from google-api-core[grpc]<2.0.0dev,>=1.14.0; platform_python_implementation != \"PyPy\"->firebase_admin)\n",
      "\u001b[?25l  Downloading https://files.pythonhosted.org/packages/9f/c7/66eb5db543ab70768c03e29308d18fe260b10ecb2c122d45d18dd523c97d/protobuf-3.9.2-cp37-cp37m-macosx_10_9_intel.whl (1.4MB)\n",
      "\u001b[K     |████████████████████████████████| 1.4MB 422kB/s eta 0:00:01\n",
      "\u001b[?25hCollecting googleapis-common-protos<2.0dev,>=1.6.0 (from google-api-core[grpc]<2.0.0dev,>=1.14.0; platform_python_implementation != \"PyPy\"->firebase_admin)\n",
      "  Using cached https://files.pythonhosted.org/packages/eb/ee/e59e74ecac678a14d6abefb9054f0bbcb318a6452a30df3776f133886d7d/googleapis-common-protos-1.6.0.tar.gz\n",
      "Collecting grpcio<2.0dev,>=1.8.2; extra == \"grpc\" (from google-api-core[grpc]<2.0.0dev,>=1.14.0; platform_python_implementation != \"PyPy\"->firebase_admin)\n",
      "\u001b[?25l  Downloading https://files.pythonhosted.org/packages/08/d1/3ab21fe6a03828bc61148a3c4ff461ff2a034af9efc7989150a2abe54cba/grpcio-1.24.0-cp37-cp37m-macosx_10_9_x86_64.whl (2.1MB)\n",
      "\u001b[K     |████████████████████████████████| 2.1MB 736kB/s eta 0:00:01\n",
      "\u001b[?25hCollecting cachetools>=2.0.0 (from google-auth>=1.2.0->google-cloud-storage>=1.18.0->firebase_admin)\n",
      "  Using cached https://files.pythonhosted.org/packages/2f/a6/30b0a0bef12283e83e58c1d6e7b5aabc7acfc4110df81a4471655d33e704/cachetools-3.1.1-py2.py3-none-any.whl\n",
      "Collecting rsa>=3.1.4 (from google-auth>=1.2.0->google-cloud-storage>=1.18.0->firebase_admin)\n",
      "  Using cached https://files.pythonhosted.org/packages/02/e5/38518af393f7c214357079ce67a317307936896e961e35450b70fad2a9cf/rsa-4.0-py2.py3-none-any.whl\n",
      "Collecting pyasn1-modules>=0.2.1 (from google-auth>=1.2.0->google-cloud-storage>=1.18.0->firebase_admin)\n",
      "\u001b[?25l  Downloading https://files.pythonhosted.org/packages/be/70/e5ea8afd6d08a4b99ebfc77bd1845248d56cfcf43d11f9dc324b9580a35c/pyasn1_modules-0.2.6-py2.py3-none-any.whl (95kB)\n",
      "\u001b[K     |████████████████████████████████| 102kB 1.7MB/s ta 0:00:011\n",
      "\u001b[?25hRequirement already satisfied: idna<2.9,>=2.5 in /Users/macosx/.pyenv/versions/3.7.3/envs/learn-python-env/lib/python3.7/site-packages (from requests->cachecontrol>=0.12.4->firebase_admin) (2.8)\n",
      "Requirement already satisfied: urllib3!=1.25.0,!=1.25.1,<1.26,>=1.21.1 in /Users/macosx/.pyenv/versions/3.7.3/envs/learn-python-env/lib/python3.7/site-packages (from requests->cachecontrol>=0.12.4->firebase_admin) (1.25.6)\n",
      "Requirement already satisfied: chardet<3.1.0,>=3.0.2 in /Users/macosx/.pyenv/versions/3.7.3/envs/learn-python-env/lib/python3.7/site-packages (from requests->cachecontrol>=0.12.4->firebase_admin) (3.0.4)\n",
      "Requirement already satisfied: certifi>=2017.4.17 in /Users/macosx/.pyenv/versions/3.7.3/envs/learn-python-env/lib/python3.7/site-packages (from requests->cachecontrol>=0.12.4->firebase_admin) (2019.9.11)\n",
      "Collecting pyasn1>=0.1.3 (from rsa>=3.1.4->google-auth>=1.2.0->google-cloud-storage>=1.18.0->firebase_admin)\n",
      "\u001b[?25l  Downloading https://files.pythonhosted.org/packages/a1/71/8f0d444e3a74e5640a3d5d967c1c6b015da9c655f35b2d308a55d907a517/pyasn1-0.4.7-py2.py3-none-any.whl (76kB)\n",
      "\u001b[K     |████████████████████████████████| 81kB 1.3MB/s eta 0:00:011\n",
      "\u001b[?25hInstalling collected packages: protobuf, googleapis-common-protos, cachetools, pyasn1, rsa, pyasn1-modules, google-auth, grpcio, google-api-core, google-cloud-core, google-cloud-firestore, google-resumable-media, google-cloud-storage, msgpack, cachecontrol, httplib2, google-auth-httplib2, uritemplate, google-api-python-client, firebase-admin\n",
      "  Running setup.py install for googleapis-common-protos ... \u001b[?25ldone\n"
     ]
    },
    {
     "name": "stdout",
     "output_type": "stream",
     "text": [
      "\u001b[?25h  Running setup.py install for cachecontrol ... \u001b[?25ldone\n",
      "\u001b[?25h  Running setup.py install for google-api-python-client ... \u001b[?25ldone\n",
      "\u001b[?25hSuccessfully installed cachecontrol-0.12.5 cachetools-3.1.1 firebase-admin-3.0.0 google-api-core-1.14.2 google-api-python-client-1.7.11 google-auth-1.6.3 google-auth-httplib2-0.0.3 google-cloud-core-1.0.3 google-cloud-firestore-1.4.0 google-cloud-storage-1.20.0 google-resumable-media-0.4.1 googleapis-common-protos-1.6.0 grpcio-1.24.0 httplib2-0.14.0 msgpack-0.6.2 protobuf-3.9.2 pyasn1-0.4.7 pyasn1-modules-0.2.6 rsa-4.0 uritemplate-3.0.0\n"
     ]
    }
   ],
   "source": [
    "!pip install firebase_admin"
   ]
  },
  {
   "cell_type": "code",
   "execution_count": 7,
   "metadata": {},
   "outputs": [],
   "source": [
    "from firebase_admin import firestore"
   ]
  },
  {
   "cell_type": "code",
   "execution_count": 8,
   "metadata": {},
   "outputs": [
    {
     "ename": "ValueError",
     "evalue": "The default Firebase app does not exist. Make sure to initialize the SDK by calling initialize_app().",
     "output_type": "error",
     "traceback": [
      "\u001b[0;31m---------------------------------------------------------------------------\u001b[0m",
      "\u001b[0;31mValueError\u001b[0m                                Traceback (most recent call last)",
      "\u001b[0;32m<ipython-input-8-c1ef3d5f3032>\u001b[0m in \u001b[0;36m<module>\u001b[0;34m\u001b[0m\n\u001b[0;32m----> 1\u001b[0;31m \u001b[0mdb\u001b[0m \u001b[0;34m=\u001b[0m \u001b[0mfirestore\u001b[0m\u001b[0;34m.\u001b[0m\u001b[0mclient\u001b[0m\u001b[0;34m(\u001b[0m\u001b[0;34m)\u001b[0m\u001b[0;34m\u001b[0m\u001b[0;34m\u001b[0m\u001b[0m\n\u001b[0m",
      "\u001b[0;32m~/.pyenv/versions/3.7.3/envs/learn-python-env/lib/python3.7/site-packages/firebase_admin/firestore.py\u001b[0m in \u001b[0;36mclient\u001b[0;34m(app)\u001b[0m\n\u001b[1;32m     51\u001b[0m           \u001b[0;34m/\u001b[0m\u001b[0mfirestore\u001b[0m\u001b[0;34m/\u001b[0m\u001b[0mclient\u001b[0m\u001b[0;34m.\u001b[0m\u001b[0mhtml\u001b[0m\u001b[0;34m\u001b[0m\u001b[0;34m\u001b[0m\u001b[0m\n\u001b[1;32m     52\u001b[0m     \"\"\"\n\u001b[0;32m---> 53\u001b[0;31m     \u001b[0mfs_client\u001b[0m \u001b[0;34m=\u001b[0m \u001b[0m_utils\u001b[0m\u001b[0;34m.\u001b[0m\u001b[0mget_app_service\u001b[0m\u001b[0;34m(\u001b[0m\u001b[0mapp\u001b[0m\u001b[0;34m,\u001b[0m \u001b[0m_FIRESTORE_ATTRIBUTE\u001b[0m\u001b[0;34m,\u001b[0m \u001b[0m_FirestoreClient\u001b[0m\u001b[0;34m.\u001b[0m\u001b[0mfrom_app\u001b[0m\u001b[0;34m)\u001b[0m\u001b[0;34m\u001b[0m\u001b[0;34m\u001b[0m\u001b[0m\n\u001b[0m\u001b[1;32m     54\u001b[0m     \u001b[0;32mreturn\u001b[0m \u001b[0mfs_client\u001b[0m\u001b[0;34m.\u001b[0m\u001b[0mget\u001b[0m\u001b[0;34m(\u001b[0m\u001b[0;34m)\u001b[0m\u001b[0;34m\u001b[0m\u001b[0;34m\u001b[0m\u001b[0m\n\u001b[1;32m     55\u001b[0m \u001b[0;34m\u001b[0m\u001b[0m\n",
      "\u001b[0;32m~/.pyenv/versions/3.7.3/envs/learn-python-env/lib/python3.7/site-packages/firebase_admin/_utils.py\u001b[0m in \u001b[0;36mget_app_service\u001b[0;34m(app, name, initializer)\u001b[0m\n\u001b[1;32m     75\u001b[0m \u001b[0;34m\u001b[0m\u001b[0m\n\u001b[1;32m     76\u001b[0m \u001b[0;32mdef\u001b[0m \u001b[0mget_app_service\u001b[0m\u001b[0;34m(\u001b[0m\u001b[0mapp\u001b[0m\u001b[0;34m,\u001b[0m \u001b[0mname\u001b[0m\u001b[0;34m,\u001b[0m \u001b[0minitializer\u001b[0m\u001b[0;34m)\u001b[0m\u001b[0;34m:\u001b[0m\u001b[0;34m\u001b[0m\u001b[0;34m\u001b[0m\u001b[0m\n\u001b[0;32m---> 77\u001b[0;31m     \u001b[0mapp\u001b[0m \u001b[0;34m=\u001b[0m \u001b[0m_get_initialized_app\u001b[0m\u001b[0;34m(\u001b[0m\u001b[0mapp\u001b[0m\u001b[0;34m)\u001b[0m\u001b[0;34m\u001b[0m\u001b[0;34m\u001b[0m\u001b[0m\n\u001b[0m\u001b[1;32m     78\u001b[0m     \u001b[0;32mreturn\u001b[0m \u001b[0mapp\u001b[0m\u001b[0;34m.\u001b[0m\u001b[0m_get_service\u001b[0m\u001b[0;34m(\u001b[0m\u001b[0mname\u001b[0m\u001b[0;34m,\u001b[0m \u001b[0minitializer\u001b[0m\u001b[0;34m)\u001b[0m \u001b[0;31m# pylint: disable=protected-access\u001b[0m\u001b[0;34m\u001b[0m\u001b[0;34m\u001b[0m\u001b[0m\n\u001b[1;32m     79\u001b[0m \u001b[0;34m\u001b[0m\u001b[0m\n",
      "\u001b[0;32m~/.pyenv/versions/3.7.3/envs/learn-python-env/lib/python3.7/site-packages/firebase_admin/_utils.py\u001b[0m in \u001b[0;36m_get_initialized_app\u001b[0;34m(app)\u001b[0m\n\u001b[1;32m     62\u001b[0m \u001b[0;32mdef\u001b[0m \u001b[0m_get_initialized_app\u001b[0m\u001b[0;34m(\u001b[0m\u001b[0mapp\u001b[0m\u001b[0;34m)\u001b[0m\u001b[0;34m:\u001b[0m\u001b[0;34m\u001b[0m\u001b[0;34m\u001b[0m\u001b[0m\n\u001b[1;32m     63\u001b[0m     \u001b[0;32mif\u001b[0m \u001b[0mapp\u001b[0m \u001b[0;32mis\u001b[0m \u001b[0;32mNone\u001b[0m\u001b[0;34m:\u001b[0m\u001b[0;34m\u001b[0m\u001b[0;34m\u001b[0m\u001b[0m\n\u001b[0;32m---> 64\u001b[0;31m         \u001b[0;32mreturn\u001b[0m \u001b[0mfirebase_admin\u001b[0m\u001b[0;34m.\u001b[0m\u001b[0mget_app\u001b[0m\u001b[0;34m(\u001b[0m\u001b[0;34m)\u001b[0m\u001b[0;34m\u001b[0m\u001b[0;34m\u001b[0m\u001b[0m\n\u001b[0m\u001b[1;32m     65\u001b[0m     \u001b[0;32melif\u001b[0m \u001b[0misinstance\u001b[0m\u001b[0;34m(\u001b[0m\u001b[0mapp\u001b[0m\u001b[0;34m,\u001b[0m \u001b[0mfirebase_admin\u001b[0m\u001b[0;34m.\u001b[0m\u001b[0mApp\u001b[0m\u001b[0;34m)\u001b[0m\u001b[0;34m:\u001b[0m\u001b[0;34m\u001b[0m\u001b[0;34m\u001b[0m\u001b[0m\n\u001b[1;32m     66\u001b[0m         \u001b[0minitialized_app\u001b[0m \u001b[0;34m=\u001b[0m \u001b[0mfirebase_admin\u001b[0m\u001b[0;34m.\u001b[0m\u001b[0mget_app\u001b[0m\u001b[0;34m(\u001b[0m\u001b[0mapp\u001b[0m\u001b[0;34m.\u001b[0m\u001b[0mname\u001b[0m\u001b[0;34m)\u001b[0m\u001b[0;34m\u001b[0m\u001b[0;34m\u001b[0m\u001b[0m\n",
      "\u001b[0;32m~/.pyenv/versions/3.7.3/envs/learn-python-env/lib/python3.7/site-packages/firebase_admin/__init__.py\u001b[0m in \u001b[0;36mget_app\u001b[0;34m(name)\u001b[0m\n\u001b[1;32m    136\u001b[0m     \u001b[0;32mif\u001b[0m \u001b[0mname\u001b[0m \u001b[0;34m==\u001b[0m \u001b[0m_DEFAULT_APP_NAME\u001b[0m\u001b[0;34m:\u001b[0m\u001b[0;34m\u001b[0m\u001b[0;34m\u001b[0m\u001b[0m\n\u001b[1;32m    137\u001b[0m         raise ValueError(\n\u001b[0;32m--> 138\u001b[0;31m             \u001b[0;34m'The default Firebase app does not exist. Make sure to initialize '\u001b[0m\u001b[0;34m\u001b[0m\u001b[0;34m\u001b[0m\u001b[0m\n\u001b[0m\u001b[1;32m    139\u001b[0m             'the SDK by calling initialize_app().')\n\u001b[1;32m    140\u001b[0m     \u001b[0;32melse\u001b[0m\u001b[0;34m:\u001b[0m\u001b[0;34m\u001b[0m\u001b[0;34m\u001b[0m\u001b[0m\n",
      "\u001b[0;31mValueError\u001b[0m: The default Firebase app does not exist. Make sure to initialize the SDK by calling initialize_app()."
     ]
    }
   ],
   "source": [
    " db = firestore.client()"
   ]
  },
  {
   "cell_type": "code",
   "execution_count": null,
   "metadata": {},
   "outputs": [],
   "source": []
  }
 ],
 "metadata": {
  "kernelspec": {
   "display_name": "Python 3",
   "language": "python",
   "name": "python3"
  },
  "language_info": {
   "codemirror_mode": {
    "name": "ipython",
    "version": 3
   },
   "file_extension": ".py",
   "mimetype": "text/x-python",
   "name": "python",
   "nbconvert_exporter": "python",
   "pygments_lexer": "ipython3",
   "version": "3.7.3"
  }
 },
 "nbformat": 4,
 "nbformat_minor": 2
}
